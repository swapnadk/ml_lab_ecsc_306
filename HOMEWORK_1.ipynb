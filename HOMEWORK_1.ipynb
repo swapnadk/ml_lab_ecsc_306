{
 "cells": [
  {
   "cell_type": "code",
   "execution_count": 1,
   "metadata": {},
   "outputs": [
    {
     "name": "stdout",
     "output_type": "stream",
     "text": [
      "100\n"
     ]
    }
   ],
   "source": [
    "import tensorflow as tf\n",
    "a=tf.constant(6)\n",
    "b=tf.constant(4)\n",
    "\n",
    "with tf.name_scope(\"MyOperationGroup\"):\n",
    "    c=tf.multiply(a,b,name=\"Mult1\")\n",
    "    d=tf.multiply(2,c,name=\"Mult_2\")\n",
    "    e=tf.square(a,name=\"Square_A\")\n",
    "    f=tf.square(b,name=\"Square_B\")\n",
    "\n",
    "g=tf.add(e,f,name=\"Add_1\")\n",
    "h=tf.add(g,d,name=\"Add_2\")\n",
    "\n",
    "with tf.Session() as sess:\n",
    "    writer = tf.summary.FileWriter(\"/tmp/tboard/output1_a2222\", sess.graph)\n",
    "    print(sess.run(h))\n",
    "    writer.close()"
   ]
  },
  {
   "cell_type": "code",
   "execution_count": null,
   "metadata": {
    "collapsed": true
   },
   "outputs": [],
   "source": []
  }
 ],
 "metadata": {
  "kernelspec": {
   "display_name": "Python 3",
   "language": "python",
   "name": "python3"
  },
  "language_info": {
   "codemirror_mode": {
    "name": "ipython",
    "version": 3
   },
   "file_extension": ".py",
   "mimetype": "text/x-python",
   "name": "python",
   "nbconvert_exporter": "python",
   "pygments_lexer": "ipython3",
   "version": "3.6.1"
  }
 },
 "nbformat": 4,
 "nbformat_minor": 2
}
