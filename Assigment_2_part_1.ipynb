{
 "cells": [
  {
   "cell_type": "code",
   "execution_count": 1,
   "metadata": {},
   "outputs": [
    {
     "name": "stdout",
     "output_type": "stream",
     "text": [
      "4.66667\n",
      "3.33333\n",
      "41.6867\n",
      "42.4733\n",
      "1.01887\n",
      "-1.4214\n"
     ]
    }
   ],
   "source": [
    "import tensorflow as tf\n",
    "x=tf.constant([1.5,2.6,9.9],shape=[1,3],name='x')\n",
    "y=tf.constant([1.0,0.2,8.8],shape=[1,3],name='y')\n",
    "\n",
    "with tf.name_scope(\"mean_of_x_y\"):\n",
    "        x1=tf.reduce_mean(x)\n",
    "        y1=tf.reduce_mean(y)\n",
    "        sess=tf.Session()\n",
    "        print(sess.run(x1))\n",
    "        print(sess.run(y1))\n",
    "        \n",
    "with tf.name_scope(\"variance\"):\n",
    "    with tf.name_scope(\"Subtraction1\"):\n",
    "        a=tf.subtract(x,x1)\n",
    "        sess1=tf.Session()\n",
    "    \n",
    "    with tf.name_scope(\"Square1\"):\n",
    "        a1=tf.multiply(a,a)\n",
    "        sess3=tf.Session()\n",
    "   \n",
    "    with tf.name_scope(\"Sum1\"):\n",
    "        var=tf.reduce_sum(a1)\n",
    "        sess4=tf.Session()\n",
    "    print(sess4.run(var))\n",
    "    \n",
    "    with tf.name_scope(\"Subtraction2\"):\n",
    "        b=tf.subtract(y,y1)\n",
    "        sess2=tf.Session()  \n",
    "\n",
    "with tf.name_scope(\"covariance\"):\n",
    "    with tf.name_scope(\"Multi\"):\n",
    "        m1=tf.multiply(a,b)\n",
    "        sess5=tf.Session()\n",
    "    \n",
    "    with tf.name_scope(\"Sum2\"):\n",
    "        m2=tf.reduce_sum(m1)\n",
    "        sess6=tf.Session()\n",
    "    print(sess6.run(m2))\n",
    "    \n",
    "with tf.name_scope(\"value_of_c\"):\n",
    "    with tf.name_scope(\"Division\"):\n",
    "        c=tf.divide(m2,var)\n",
    "        sess7=tf.Session()\n",
    "        print(sess7.run(c))\n",
    "        \n",
    "with tf.name_scope(\"value_of_m\"):\n",
    "            c1=tf.multiply(c,x1)\n",
    "            sess8=tf.Session()\n",
    "            c2=tf.subtract(y1,c1)\n",
    "            sess9=tf.Session()\n",
    "            print(sess9.run(c2))    \n",
    "            writer = tf.summary.FileWriter(\"/tmp/tboard/swapna\", sess.graph)"
   ]
  },
  {
   "cell_type": "code",
   "execution_count": null,
   "metadata": {
    "collapsed": true
   },
   "outputs": [],
   "source": []
  }
 ],
 "metadata": {
  "kernelspec": {
   "display_name": "Python 3",
   "language": "python",
   "name": "python3"
  },
  "language_info": {
   "codemirror_mode": {
    "name": "ipython",
    "version": 3
   },
   "file_extension": ".py",
   "mimetype": "text/x-python",
   "name": "python",
   "nbconvert_exporter": "python",
   "pygments_lexer": "ipython3",
   "version": "3.6.1"
  }
 },
 "nbformat": 4,
 "nbformat_minor": 2
}
