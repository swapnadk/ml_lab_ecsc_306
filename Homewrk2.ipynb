{
 "cells": [
  {
   "cell_type": "code",
   "execution_count": 1,
   "metadata": {},
   "outputs": [
    {
     "name": "stdout",
     "output_type": "stream",
     "text": [
      "125\n"
     ]
    }
   ],
   "source": [
    "import tensorflow as tf\n",
    "a=tf.constant(7)\n",
    "b=tf.constant(2)\n",
    "\n",
    "with tf.name_scope(\"MyOperation\"): \n",
    "    c=tf.multiply(a,a,name=\"Square_a\") \n",
    "    d=tf.multiply(c,a,name=\"Cube_a\")##a3 \n",
    "    c1=tf.multiply(b,b,name=\"Square_b\") \n",
    "    d1=tf.multiply(c1,b,\"Cube_b\")##b3 \n",
    "    d2=tf.multiply(a,b,name=\"Multiplication_1\") \n",
    "    c3=tf.multiply(3,d2,name=\"Multiplication_2\")##3ab \n",
    "    c2=tf.subtract(a,b,name=\"Subtraction_1\")##a-b \n",
    "    d3=tf.multiply(c3,c2,name=\"Multiplication_3\")##3ab(a-b) \n",
    "    d4=tf.add(d1,d3,name=\"Addition\") \n",
    "    c4=tf.subtract(d,d4,name=\"Subtraction_2\")\n",
    "\n",
    "    sess = tf.Session()\n",
    "    print(sess.run(c4))\n",
    "    \n",
    "with tf.Session() as sess:\n",
    "    writer = tf.summary.FileWriter(\"/tmp/tboard/output1_a22\", sess.graph)\n",
    "    writer.close()"
   ]
  },
  {
   "cell_type": "code",
   "execution_count": null,
   "metadata": {
    "collapsed": true
   },
   "outputs": [],
   "source": []
  }
 ],
 "metadata": {
  "kernelspec": {
   "display_name": "Python 3",
   "language": "python",
   "name": "python3"
  },
  "language_info": {
   "codemirror_mode": {
    "name": "ipython",
    "version": 3
   },
   "file_extension": ".py",
   "mimetype": "text/x-python",
   "name": "python",
   "nbconvert_exporter": "python",
   "pygments_lexer": "ipython3",
   "version": "3.6.1"
  }
 },
 "nbformat": 4,
 "nbformat_minor": 2
}
